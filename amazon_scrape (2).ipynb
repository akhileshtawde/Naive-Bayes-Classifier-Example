{
 "cells": [
  {
   "cell_type": "code",
   "execution_count": 150,
   "metadata": {},
   "outputs": [],
   "source": [
    "#Importing packages\n",
    "from selenium import webdriver\n",
    "import pandas as pd"
   ]
  },
  {
   "cell_type": "code",
   "execution_count": 151,
   "metadata": {},
   "outputs": [],
   "source": [
    "name =[]\n",
    "reviews = []\n",
    "ratings = []"
   ]
  },
  {
   "cell_type": "code",
   "execution_count": 152,
   "metadata": {},
   "outputs": [],
   "source": [
    "driver = webdriver.Chrome('C:/selenium/chromedriver_win32/chromedriver.exe')\n",
    "i = 1\n",
    "for i in range (1,550):\n",
    "    j = 1\n",
    "    driver.get(\"https://www.amazon.com/Fire-TV-Stick-4K-with-Alexa-Voice-Remote/product-reviews/B079QHML21/ref=cm_cr_getr_d_paging_btm_next_\"+ str(i) +\"?ie=UTF8&reviewerType=all_reviews&pageNumber=\" + str(i))\n",
    "    try:\n",
    "        for j in range (1,11):\n",
    "            userid_element = driver.find_elements_by_xpath('/html/body/div[1]/div[3]/div[1]/div[1]/div/div[1]/div[5]/div[3]/div[' +str(j) + ']/div/div/div[1]/a/div[2]/span')[0]\n",
    "            userid = userid_element.text                    \n",
    "            name.append(userid)\n",
    "            rating_element = driver.find_elements_by_xpath('/html/body/div[1]/div[3]/div[1]/div[1]/div/div[1]/div[5]/div[3]/div[' +str(j) + ']/div/div/div[2]/a[1]/i/span')[0]\n",
    "            rating = rating_element.get_attribute('innerText')\n",
    "            ratings.append(rating)\n",
    "            review_element = driver.find_elements_by_xpath('/html/body/div[1]/div[3]/div[1]/div[1]/div/div[1]/div[5]/div[3]/div[' + str(j) + ']/div/div/div[4]/span')[0]\n",
    "            review = review_element.text     \n",
    "            reviews.append(review)\n",
    "    except IndexError:\n",
    "        pass\n"
   ]
  },
  {
   "cell_type": "code",
   "execution_count": 153,
   "metadata": {},
   "outputs": [
    {
     "name": "stdout",
     "output_type": "stream",
     "text": [
      "              Name             Ratings  \\\n",
      "0             Adam  5.0 out of 5 stars   \n",
      "1      Vedgehammer  3.0 out of 5 stars   \n",
      "2             rich  1.0 out of 5 stars   \n",
      "3           Achint  4.0 out of 5 stars   \n",
      "4          Birdman  4.0 out of 5 stars   \n",
      "...            ...                 ...   \n",
      "4686  Steve Cheney  5.0 out of 5 stars   \n",
      "4687          Josh  4.0 out of 5 stars   \n",
      "4688     Gina Dunn  5.0 out of 5 stars   \n",
      "4689    G. Westfal  5.0 out of 5 stars   \n",
      "4690         Nadia  5.0 out of 5 stars   \n",
      "\n",
      "                                                 Review  \n",
      "0     I received the Fire TV Stick 4K on launch day....  \n",
      "1     Let me tell you, I was super excited for the l...  \n",
      "2     Our main streaming service is DirecTV Now, and...  \n",
      "3     I was looking for replacing my Roku LT streami...  \n",
      "4     Ok, so if your like me you wonder what exactly...  \n",
      "...                                                 ...  \n",
      "4686  I was so tired of being taken for a financial ...  \n",
      "4687  This is an ok device there is some free conten...  \n",
      "4688  So far love it. Haven’t got a chance to use al...  \n",
      "4689  We upgraded from the original Fire Stick and, ...  \n",
      "4690  Ordered on Prime Day. I have 2 older versions ...  \n",
      "\n",
      "[4691 rows x 3 columns]\n"
     ]
    }
   ],
   "source": [
    "from pandas import DataFrame\n",
    "data = [name,ratings,reviews]\n",
    "\n",
    "df = DataFrame (data).transpose()\n",
    "df.columns = ['Name','Ratings','Review']\n",
    "print (df)"
   ]
  },
  {
   "cell_type": "code",
   "execution_count": 154,
   "metadata": {},
   "outputs": [
    {
     "data": {
      "text/html": [
       "<div>\n",
       "<style scoped>\n",
       "    .dataframe tbody tr th:only-of-type {\n",
       "        vertical-align: middle;\n",
       "    }\n",
       "\n",
       "    .dataframe tbody tr th {\n",
       "        vertical-align: top;\n",
       "    }\n",
       "\n",
       "    .dataframe thead th {\n",
       "        text-align: right;\n",
       "    }\n",
       "</style>\n",
       "<table border=\"1\" class=\"dataframe\">\n",
       "  <thead>\n",
       "    <tr style=\"text-align: right;\">\n",
       "      <th></th>\n",
       "      <th>Name</th>\n",
       "      <th>Ratings</th>\n",
       "      <th>Review</th>\n",
       "    </tr>\n",
       "  </thead>\n",
       "  <tbody>\n",
       "    <tr>\n",
       "      <td>0</td>\n",
       "      <td>Adam</td>\n",
       "      <td>5.0 out of 5 stars</td>\n",
       "      <td>I received the Fire TV Stick 4K on launch day....</td>\n",
       "    </tr>\n",
       "    <tr>\n",
       "      <td>1</td>\n",
       "      <td>Vedgehammer</td>\n",
       "      <td>3.0 out of 5 stars</td>\n",
       "      <td>Let me tell you, I was super excited for the l...</td>\n",
       "    </tr>\n",
       "    <tr>\n",
       "      <td>2</td>\n",
       "      <td>rich</td>\n",
       "      <td>1.0 out of 5 stars</td>\n",
       "      <td>Our main streaming service is DirecTV Now, and...</td>\n",
       "    </tr>\n",
       "    <tr>\n",
       "      <td>3</td>\n",
       "      <td>Achint</td>\n",
       "      <td>4.0 out of 5 stars</td>\n",
       "      <td>I was looking for replacing my Roku LT streami...</td>\n",
       "    </tr>\n",
       "    <tr>\n",
       "      <td>4</td>\n",
       "      <td>Birdman</td>\n",
       "      <td>4.0 out of 5 stars</td>\n",
       "      <td>Ok, so if your like me you wonder what exactly...</td>\n",
       "    </tr>\n",
       "  </tbody>\n",
       "</table>\n",
       "</div>"
      ],
      "text/plain": [
       "          Name             Ratings  \\\n",
       "0         Adam  5.0 out of 5 stars   \n",
       "1  Vedgehammer  3.0 out of 5 stars   \n",
       "2         rich  1.0 out of 5 stars   \n",
       "3       Achint  4.0 out of 5 stars   \n",
       "4      Birdman  4.0 out of 5 stars   \n",
       "\n",
       "                                              Review  \n",
       "0  I received the Fire TV Stick 4K on launch day....  \n",
       "1  Let me tell you, I was super excited for the l...  \n",
       "2  Our main streaming service is DirecTV Now, and...  \n",
       "3  I was looking for replacing my Roku LT streami...  \n",
       "4  Ok, so if your like me you wonder what exactly...  "
      ]
     },
     "execution_count": 154,
     "metadata": {},
     "output_type": "execute_result"
    }
   ],
   "source": [
    "df.head()"
   ]
  },
  {
   "cell_type": "code",
   "execution_count": 155,
   "metadata": {},
   "outputs": [],
   "source": [
    "df.to_csv(\"C:/selenium/amazon_scrape.csv\",index = False)"
   ]
  },
  {
   "cell_type": "code",
   "execution_count": null,
   "metadata": {},
   "outputs": [],
   "source": []
  }
 ],
 "metadata": {
  "kernelspec": {
   "display_name": "Python 3",
   "language": "python",
   "name": "python3"
  },
  "language_info": {
   "codemirror_mode": {
    "name": "ipython",
    "version": 3
   },
   "file_extension": ".py",
   "mimetype": "text/x-python",
   "name": "python",
   "nbconvert_exporter": "python",
   "pygments_lexer": "ipython3",
   "version": "3.7.4"
  }
 },
 "nbformat": 4,
 "nbformat_minor": 2
}
